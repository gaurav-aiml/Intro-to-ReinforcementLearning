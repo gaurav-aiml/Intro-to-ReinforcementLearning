{
 "cells": [
  {
   "cell_type": "markdown",
   "metadata": {},
   "source": [
    "# Reinforcement Learning on CartPole and MountainCar using Deep Q Learning"
   ]
  },
  {
   "cell_type": "markdown",
   "metadata": {},
   "source": [
    "# Introduction"
   ]
  },
  {
   "cell_type": "markdown",
   "metadata": {},
   "source": [
    "In this project, Deep-Q Learning has been used to solve two OpenAI Environments. CartPole and MountainCar. \n",
    "At first, a vanilla Deep-Q Network (DQN) has been used to train both the environments. Furter, Double DQN which is an improvement over vanilla DQN has been used to solve the CartPole environment which results in an improvement."
   ]
  },
  {
   "cell_type": "markdown",
   "metadata": {},
   "source": [
    "# Deep Q Network"
   ]
  },
  {
   "cell_type": "markdown",
   "metadata": {},
   "source": [
    "A Deep Q Network is essentially just a neural network. Either a CNN is used or a traditional fully connected simple neural network (which has been used as DQN in the current project). The state of the environment is sent as input to the DQN and it gives out Q values associated with the all the actions that can be taken by the agent at that state. These Q values are approximated and over time, the DQN learns the Q function to give out optimal q values that will be estimated by the Bellman Equations"
   ]
  },
  {
   "cell_type": "markdown",
   "metadata": {},
   "source": [
    "# Experience Replay\n"
   ]
  },
  {
   "cell_type": "markdown",
   "metadata": {},
   "source": [
    "Experience Replay is the process of storing a tuple (state, action, reward, next_state) in a replay buffer and  random sample from this buffer is used to train the DQN. This is used to seperate the learning experience from the gaining experience. If the algorithm learnt from sequential data, there would be high correlation between the consequent states and action and to avoid this Experience Replay is used."
   ]
  },
  {
   "cell_type": "markdown",
   "metadata": {},
   "source": [
    "# Target Network"
   ]
  },
  {
   "cell_type": "markdown",
   "metadata": {},
   "source": [
    "In Bellman Optimality Equation shown below, Target value is to be calculated. In the target value, there are 2 terms, the immediate reward and the expected reward that can be got in the future by being in that state. Hence, the second part of the target value required the next_state to be passed into the neural network. If we use a single neural network, and make two forward passes (one forward pass with state value to obtain action, and second pass with next_state value from the experience tuple) leads to overestimation of state and action values leading to unstable training.\n",
    "\n",
    "Therefore, we use another identical network and pass the next_state values through it instead of the policy network. This new identical network is called target network. And using this brings a stability in training. The weigts of the target networks are set to the weights of policy network after every few iterations and will only be used for evaluation and not training."
   ]
  },
  {
   "cell_type": "markdown",
   "metadata": {},
   "source": [
    "<img src=\"./Q_learning_equation.PNG\">"
   ]
  },
  {
   "cell_type": "markdown",
   "metadata": {},
   "source": [
    "# 1.1 Implementation of  Vanilla DQN"
   ]
  },
  {
   "cell_type": "code",
   "execution_count": 1,
   "metadata": {},
   "outputs": [],
   "source": [
    "%matplotlib inline\n",
    "import gym\n",
    "import time\n",
    "import math\n",
    "import random\n",
    "import torch\n",
    "import numpy as np\n",
    "import matplotlib.pyplot as plt\n",
    "import matplotlib\n",
    "import torch.nn as nn\n",
    "import torch.optim as optim\n",
    "import torchvision.transforms as T\n",
    "import torch.nn.functional as F\n",
    "from collections import namedtuple\n",
    "from itertools import count\n",
    "from IPython import display\n",
    "\n",
    "#in order to show graphs dynamically change with each episode\n",
    "is_ipython = 'inline' in matplotlib.get_backend()\n",
    "if is_ipython: from IPython import display"
   ]
  },
  {
   "cell_type": "code",
   "execution_count": 2,
   "metadata": {},
   "outputs": [],
   "source": [
    "class DQN_Simple(nn.Module):\n",
    "    def __init__(self, width, height, action_space):\n",
    "        super().__init__()\n",
    "        \n",
    "        self.dense1 = nn.Linear(in_features=width*height*3, out_features=24)\n",
    "        self.dense2 = nn.Linear(in_features=24, out_features=32)\n",
    "        \n",
    "        self.out = nn.Linear(in_features=32, out_features=action_space)\n",
    "    \n",
    "    def forward(self, features):\n",
    "        features = features.flatten(start_dim=1)\n",
    "        features = F.relu(self.dense1(features))\n",
    "        features = F.relu(self.dense2(features))\n",
    "        features = self.out(features)\n",
    "        return features"
   ]
  },
  {
   "cell_type": "code",
   "execution_count": 3,
   "metadata": {},
   "outputs": [],
   "source": [
    "Experience = namedtuple('Experience', ('state', 'action', 'next_state', 'reward'))\n",
    "class ReplayMemory():\n",
    "    def __init__(self, mem_capacity):\n",
    "        self.mem_capacity = mem_capacity\n",
    "        self.replay_memory = []\n",
    "        self.push_count = 0\n",
    "    \n",
    "    #retuns a random sample of size=batch_size for the training of the DQN\n",
    "    def sample(self, batch_size):\n",
    "        return random.sample(self.replay_memory, batch_size)\n",
    "    \n",
    "    #once the replay_memory buffer is full, we remove older experiences to make space for new ones\n",
    "    def push(self, experience):\n",
    "        if len(self.replay_memory) < self.mem_capacity:\n",
    "            self.replay_memory.append(experience)\n",
    "        else:\n",
    "            self.replay_memory[self.push_count % self.mem_capacity] = experience\n",
    "        self.push_count += 1\n",
    "    \n",
    "    #to check if replay_memory is large enough to provide a sample of batch_size without repeating experience tuples\n",
    "    def is_large_enough(self, batch_size):\n",
    "        return len(self.replay_memory) >= batch_size"
   ]
  },
  {
   "cell_type": "code",
   "execution_count": 4,
   "metadata": {},
   "outputs": [],
   "source": [
    "class Agent():\n",
    "    def __init__(self, e_start, e_end, e_decay, num_actions, device):\n",
    "        self.current_step = 0\n",
    "        self.e_start = e_start\n",
    "        self.e_decay = e_decay\n",
    "        self.e_end = e_end\n",
    "        self.num_actions = num_actions\n",
    "        self.device = device\n",
    "\n",
    "    def get_epsilon_greedy_strategy(self, current_step):\n",
    "        #Calculates the epsilon value for the exploration vs. exploitation trade-off\n",
    "         return self.e_end + (self.e_start - self.e_end) * math.exp(-1. * current_step * self.e_decay)\n",
    "        \n",
    "    def select_action(self, state, policy_net):\n",
    "        \n",
    "        rate = self.get_epsilon_greedy_strategy(self.current_step)\n",
    "        self.current_step += 1\n",
    "\n",
    "        if rate > random.random():\n",
    "            action = random.randrange(self.num_actions)\n",
    "            # randomly chooses an action to explore      \n",
    "            return torch.tensor([action]).to(self.device) \n",
    "        else:\n",
    "            # passes the state through dqn and chooses max q value (exploitation)\n",
    "            with torch.no_grad():\n",
    "                return policy_net(state).argmax(dim=1).to(self.device)"
   ]
  },
  {
   "cell_type": "code",
   "execution_count": 5,
   "metadata": {},
   "outputs": [],
   "source": [
    "class Env_Manager():\n",
    "    def __init__(self, device, environment):\n",
    "        self.device = device\n",
    "        self.env = gym.make(environment).unwrapped\n",
    "        self.env.reset()\n",
    "        self.current_screen = None\n",
    "        self.done = False\n",
    "    \n",
    "    def reset(self):\n",
    "        self.env.reset()\n",
    "        self.current_screen = None\n",
    "        \n",
    "    def close(self):\n",
    "        self.env.close()\n",
    "        \n",
    "    def render(self, mode='human'):\n",
    "        return self.env.render(mode)\n",
    "        \n",
    "    def num_actions_available(self):\n",
    "        return self.env.action_space.n\n",
    "    \n",
    "    #function that actually implmenets the action in the emulator and gives back a reward \n",
    "    def step(self, action):        \n",
    "        _, reward, self.done, _ = self.env.step(action.item())\n",
    "        return torch.tensor([reward], device=self.device)\n",
    "    \n",
    "    #the beginning state is considered to be a black screen, hence this function to check\n",
    "    def is_first_state(self):\n",
    "        return self.current_screen is None\n",
    "    \n",
    "    def get_state(self):    \n",
    "        if self.is_first_state() or self.done:\n",
    "            #starting and ending state of an episode is considered a black screen\n",
    "            self.current_screen = self.get_screen()\n",
    "            #create black_screen with dimensions of current screen\n",
    "            black_screen = np.zeros((self.current_screen.shape[0],self.current_screen.shape[1], self.current_screen.shape[2], self.current_screen.shape[3]))\n",
    "            #conver Screen to tensor\n",
    "            black_screen = torch.tensor(black_screen, device=self.device)\n",
    "            return black_screen\n",
    "        \n",
    "        else:\n",
    "            s1 = self.current_screen\n",
    "            s2 = self.get_screen()\n",
    "            self.current_screen = s2\n",
    "            #instead of representing a state as stack of screenshots, a state is represented as difference between 2 screenshots\n",
    "            #before and after taking the action\n",
    "            return s2 - s1\n",
    "    \n",
    "    def get_screen_height(self):\n",
    "        screen = self.get_screen()\n",
    "        return screen.shape[2]\n",
    "    \n",
    "    def get_screen_width(self):\n",
    "        screen = self.get_screen()\n",
    "        return screen.shape[3]\n",
    "       \n",
    "    def get_screen(self):\n",
    "        #transpose is done to make the screen matrix compatible with TORCHVISION which accepts images in formar(Channels X Width X Height)\n",
    "        screen = self.render('rgb_array').transpose((2, 0, 1))\n",
    "        \n",
    "        #reduce the size to improve computation speed\n",
    "        return self.transform_screenshot(screen)\n",
    "    \n",
    "    def transform_screenshot(self, screen):       \n",
    "        #make screen as a tensor\n",
    "        screen = np.array(screen, dtype=np.float32) / 255\n",
    "        screen = torch.from_numpy(screen)\n",
    "        \n",
    "        # Reducing size for faster computation\n",
    "        resized_screen = T.Compose([T.ToPILImage(),T.Resize((50,50)),T.ToTensor()])\n",
    "        \n",
    "        return resized_screen(screen).unsqueeze(0).to(self.device) # add a batch dimension (BCHW)\n",
    "    @staticmethod\n",
    "    def get_current(policy_net, states, actions):\n",
    "        return policy_net(states).gather(dim=1, index=actions.unsqueeze(-1))\n",
    "    \n",
    "    @staticmethod        \n",
    "    def get_next(policy_net, next_states):\n",
    "        \n",
    "        #before passing next_states into a neural network we check for terminal states and do not pass them for calculating maxq*(next_state)\n",
    "        final_state_locations = next_states.flatten(start_dim=1).max(dim=1)[0].eq(0).type(torch.bool)\n",
    "        non_final_state_locations = (final_state_locations == False)\n",
    "        non_final_states = next_states[non_final_state_locations]\n",
    "        batch_size = next_states.shape[0]\n",
    "        values = torch.zeros(batch_size).to('cuda')\n",
    "        values[non_final_state_locations] = policy_net(non_final_states).max(dim=1)[0].detach()\n",
    "        \n",
    "        values = policy_net(next_states).max(dim=1)[0].detach()\n",
    "        return values"
   ]
  },
  {
   "cell_type": "code",
   "execution_count": 6,
   "metadata": {},
   "outputs": [],
   "source": [
    "def plot(values, average_rewards):\n",
    "    plt.figure(2)\n",
    "    plt.clf()        \n",
    "    plt.xlabel('Episode')\n",
    "    plt.ylabel('Duration')\n",
    "    plt.plot(values)\n",
    "    plt.plot(average_rewards)\n",
    "    print(f\"Number of Episodes:{len(values)}\\n\")\n",
    "    print(f\"Average Duration Per Episode:{average_rewards[-1]}\")\n",
    "    plt.pause(0.01)\n",
    "    if is_ipython: display.clear_output(wait=True)"
   ]
  },
  {
   "cell_type": "code",
   "execution_count": 7,
   "metadata": {},
   "outputs": [],
   "source": [
    "def get_batches(experiences):\n",
    "    batch = Experience(*zip(*experiences))\n",
    "    state = torch.cat(batch.state)\n",
    "    action = torch.cat(batch.action)\n",
    "    reward = torch.cat(batch.reward)\n",
    "    next_state = torch.cat(batch.next_state)\n",
    "    return (state,action,reward,next_state)"
   ]
  },
  {
   "cell_type": "code",
   "execution_count": 8,
   "metadata": {},
   "outputs": [],
   "source": [
    "batch_size = 256\n",
    "gamma = 0.999\n",
    "eps_start = 1.0\n",
    "eps_end = 0.01\n",
    "eps_decay = 0.09\n",
    "target_update = 10\n",
    "memory_size = 1000\n",
    "lr = 0.01\n",
    "num_episodes = 300\n",
    "MAX_TIME_PER_EPISODE = 3000"
   ]
  },
  {
   "cell_type": "code",
   "execution_count": null,
   "metadata": {},
   "outputs": [],
   "source": []
  },
  {
   "cell_type": "code",
   "execution_count": 9,
   "metadata": {},
   "outputs": [],
   "source": [
    "def start_playing(environment):\n",
    "    DEVICE = torch.device(\"cuda\" if torch.cuda.is_available() else \"cpu\")\n",
    "    manager = Env_Manager(DEVICE,environment)\n",
    "    agent = Agent(eps_start, eps_end, eps_decay, manager.num_actions_available(), DEVICE)\n",
    "    memory = ReplayMemory(memory_size)\n",
    "\n",
    "    #single network used for both current_q_value and max_q_value of next state (for bellman equation)\n",
    "    policy_net = DQN_Simple(manager.get_screen_height(), manager.get_screen_width(), manager.num_actions_available()).to(DEVICE)\n",
    "\n",
    "\n",
    "    optimizer = optim.Adam(params=policy_net.parameters(), lr=lr)\n",
    "\n",
    "    episode_durations = []\n",
    "    average_rewards = []\n",
    "    for episode in range(num_episodes):\n",
    "        manager.reset()\n",
    "        state = manager.get_state()\n",
    "\n",
    "        for timestep in count():\n",
    "            action = agent.select_action(state.float(), policy_net)\n",
    "            reward = manager.step(action)\n",
    "            next_state = manager.get_state()\n",
    "            memory.push(Experience(state.float(), action, next_state.float(), reward))\n",
    "            state = next_state\n",
    "\n",
    "            if memory.is_large_enough(batch_size):\n",
    "    #           print(\"Started Training .... Got enoug batch size\")\n",
    "                experiences = memory.sample(batch_size)\n",
    "                states, actions, rewards, next_states = get_batches(experiences)\n",
    "                #single dqn (policy_net) used for both current and next q value prediction. Weight updates done after 2 forward passes.\n",
    "                current_q_values = manager.get_current(policy_net, states, actions)\n",
    "                next_q_values = manager.get_next(policy_net, next_states)\n",
    "                target_q_values = (next_q_values * gamma) + rewards\n",
    "\n",
    "                loss = F.mse_loss(current_q_values, target_q_values.unsqueeze(1))\n",
    "                optimizer.zero_grad()\n",
    "                loss.backward()\n",
    "                optimizer.step()\n",
    "\n",
    "            if manager.done:\n",
    "                episode_durations.append(timestep)\n",
    "                average_rewards.append(np.mean(episode_durations))\n",
    "                plot(episode_durations, average_rewards)\n",
    "                break\n",
    "\n",
    "            if timestep>MAX_TIME_PER_EPISODE:\n",
    "                break\n",
    "\n",
    "    #     if episode % target_update == 0:\n",
    "    #         target_net.load_state_dict(policy_net.state_dict())\n",
    "\n",
    "    manager.close()"
   ]
  },
  {
   "cell_type": "code",
   "execution_count": 10,
   "metadata": {},
   "outputs": [],
   "source": [
    "def start_playing_DDQN(environment):\n",
    "    DEVICE = torch.device(\"cuda\" if torch.cuda.is_available() else \"cpu\")\n",
    "    manager = Env_Manager(DEVICE,environment)\n",
    "    agent = Agent(eps_start, eps_end, eps_decay, manager.num_actions_available(), DEVICE)\n",
    "    memory = ReplayMemory(memory_size)\n",
    "\n",
    "\n",
    "    #two networks used for current_q_value and max_q_value of next state (for bellman equation)\n",
    "    policy_net = DQN_Simple(manager.get_screen_height(), manager.get_screen_width(), manager.num_actions_available()).to(DEVICE)\n",
    "    target_net = DQN_Simple(manager.get_screen_height(), manager.get_screen_width(), manager.num_actions_available()).to(DEVICE)\n",
    "\n",
    "    #target network is used to \n",
    "    target_net.load_state_dict(policy_net.state_dict())\n",
    "    target_net.eval()\n",
    "\n",
    "    optimizer = optim.Adam(params=policy_net.parameters(), lr=lr)\n",
    "\n",
    "    episode_durations = []\n",
    "    average_rewards = []\n",
    "    for episode in range(num_episodes):\n",
    "        manager.reset()\n",
    "        state = manager.get_state()\n",
    "\n",
    "        for timestep in count():\n",
    "            action = agent.select_action(state.float(), policy_net)\n",
    "            reward = manager.step(action)\n",
    "            next_state = manager.get_state()\n",
    "            memory.push(Experience(state.float(), action, next_state.float(), reward))\n",
    "            state = next_state\n",
    "\n",
    "            if memory.is_large_enough(batch_size):\n",
    "                experiences = memory.sample(batch_size)\n",
    "                states, actions, rewards, next_states = get_batches(experiences)\n",
    "                #single dqn (policy_net) used for current q_value \n",
    "                # target dqn next q value prediction. Weight updates done after 2 forward passes.\n",
    "                current_q_values = manager.get_current(policy_net, states, actions)\n",
    "                next_q_values = manager.get_next(target_net, next_states)\n",
    "                target_q_values = (next_q_values * gamma) + rewards\n",
    "\n",
    "                loss = F.mse_loss(current_q_values, target_q_values.unsqueeze(1))\n",
    "                optimizer.zero_grad()\n",
    "                loss.backward()\n",
    "                optimizer.step()\n",
    "\n",
    "            if manager.done:\n",
    "                episode_durations.append(timestep)\n",
    "                average_rewards.append(np.mean(episode_durations))\n",
    "                plot(episode_durations, average_rewards)\n",
    "                break\n",
    "\n",
    "        if episode % target_update == 0:\n",
    "            target_net.load_state_dict(policy_net.state_dict())\n",
    "\n",
    "    manager.close()"
   ]
  },
  {
   "cell_type": "markdown",
   "metadata": {},
   "source": [
    "# Results"
   ]
  },
  {
   "cell_type": "code",
   "execution_count": 11,
   "metadata": {},
   "outputs": [],
   "source": [
    "batch_size = 256\n",
    "gamma = 0.999\n",
    "eps_start = 1.0\n",
    "eps_end = 0.01\n",
    "eps_decay = 0.001\n",
    "target_update = 10\n",
    "memory_size = 1000\n",
    "lr = 0.001\n",
    "num_episodes = 25\n",
    "MAX_TIME_PER_EPISODE = 3000"
   ]
  },
  {
   "cell_type": "markdown",
   "metadata": {},
   "source": [
    "### 1.2 MountainCar using Vanilla DQN"
   ]
  },
  {
   "cell_type": "markdown",
   "metadata": {},
   "source": [
    "###  Note: If the notebook is executed from the beginning. The actual learning of the agent inside the environment can be seen in a pop-up window"
   ]
  },
  {
   "cell_type": "code",
   "execution_count": 12,
   "metadata": {},
   "outputs": [
    {
     "name": "stdout",
     "output_type": "stream",
     "text": [
      "Number of Episodes:13\n",
      "\n",
      "Average Duration Per Episode:570.7692307692307\n"
     ]
    },
    {
     "data": {
      "image/png": "[encoded data removed]",
      "text/plain": [
       "<Figure size 432x288 with 1 Axes>"
      ]
     },
     "metadata": {
      "needs_background": "light"
     },
     "output_type": "display_data"
    }
   ],
   "source": [
    "start_playing('MountainCar-v0')"
   ]
  },
  {
   "cell_type": "markdown",
   "metadata": {},
   "source": [
    "### 1.2 CartPole Using Vanilla DQN"
   ]
  },
  {
   "cell_type": "code",
   "execution_count": 13,
   "metadata": {},
   "outputs": [],
   "source": [
    "batch_size = 256\n",
    "gamma = 0.999\n",
    "eps_start = 0.99\n",
    "eps_end = 0.01\n",
    "eps_decay = 0.09\n",
    "target_update = 10\n",
    "memory_size = 1000\n",
    "lr = 0.1\n",
    "num_episodes = 500\n",
    "MAX_TIME_PER_EPISODE = 3000"
   ]
  },
  {
   "cell_type": "code",
   "execution_count": 14,
   "metadata": {},
   "outputs": [
    {
     "name": "stdout",
     "output_type": "stream",
     "text": [
      "Number of Episodes:500\n",
      "\n",
      "Average Duration Per Episode:10.98\n"
     ]
    },
    {
     "data": {
      "image/png": "[encoded data removed]",
      "text/plain": [
       "<Figure size 432x288 with 1 Axes>"
      ]
     },
     "metadata": {
      "needs_background": "light"
     },
     "output_type": "display_data"
    }
   ],
   "source": [
    "start_playing('CartPole-v0')"
   ]
  },
  {
   "cell_type": "markdown",
   "metadata": {},
   "source": [
    "### 2. CartPole using Double DQN "
   ]
  },
  {
   "cell_type": "code",
   "execution_count": 15,
   "metadata": {},
   "outputs": [],
   "source": [
    "batch_size = 256\n",
    "gamma = 0.999\n",
    "eps_start = 0.99\n",
    "eps_end = 0.01\n",
    "eps_decay = 0.09\n",
    "target_update = 10\n",
    "memory_size = 1000\n",
    "lr = 0.01\n",
    "num_episodes = 500\n",
    "MAX_TIME_PER_EPISODE = 3000"
   ]
  },
  {
   "cell_type": "code",
   "execution_count": 16,
   "metadata": {},
   "outputs": [
    {
     "name": "stdout",
     "output_type": "stream",
     "text": [
      "Number of Episodes:500\n",
      "\n",
      "Average Duration Per Episode:12.33\n"
     ]
    },
    {
     "data": {
      "image/png": "[encoded data removed]",
      "text/plain": [
       "<Figure size 432x288 with 1 Axes>"
      ]
     },
     "metadata": {
      "needs_background": "light"
     },
     "output_type": "display_data"
    }
   ],
   "source": [
    "start_playing_DDQN('CartPole-v0')"
   ]
  },
  {
   "cell_type": "markdown",
   "metadata": {},
   "source": [
    "# Conclusions"
   ]
  },
  {
   "cell_type": "markdown",
   "metadata": {},
   "source": [
    "As seen above in the results for CartPole, the average duration per episode the **Vanilla DQN** could balance was **10.98** but in an improved  version of the DQN i.e **Double DQN** the average duration per episode was **12.33** when the agent played a total of 500 episodes.. The difference will be much more if the model is trained for more number of episodes and if hyperparameters are tuned."
   ]
  },
  {
   "cell_type": "code",
   "execution_count": null,
   "metadata": {},
   "outputs": [],
   "source": []
  }
 ],
 "metadata": {
  "kernelspec": {
   "display_name": "dl",
   "language": "python",
   "name": "dl"
  },
  "language_info": {
   "codemirror_mode": {
    "name": "ipython",
    "version": 3
   },
   "file_extension": ".py",
   "mimetype": "text/x-python",
   "name": "python",
   "nbconvert_exporter": "python",
   "pygments_lexer": "ipython3",
   "version": "3.7.4"
  }
 },
 "nbformat": 4,
 "nbformat_minor": 2
}
