{
 "cells": [
  {
   "cell_type": "code",
   "execution_count": 1,
   "metadata": {},
   "outputs": [],
   "source": [
    "import math\n",
    "import random\n",
    "import gym\n",
    "import numpy as np\n",
    "import time\n",
    "import torch\n",
    "import torch.nn as nn\n",
    "import torch.optim as optim\n",
    "import torch.nn.functional as F\n",
    "from torch.distributions import Categorical\n",
    "from scipy.special import softmax\n",
    "from multiprocessing_env import SubprocVecEnv"
   ]
  },
  {
   "cell_type": "code",
   "execution_count": 2,
   "metadata": {},
   "outputs": [],
   "source": [
    "from IPython.display import clear_output\n",
    "import matplotlib.pyplot as plt\n",
    "%matplotlib inline"
   ]
  },
  {
   "cell_type": "code",
   "execution_count": 3,
   "metadata": {},
   "outputs": [],
   "source": [
    "device = torch.device('cuda')"
   ]
  },
  {
   "cell_type": "markdown",
   "metadata": {},
   "source": [
    "# Actor Critic Network"
   ]
  },
  {
   "cell_type": "code",
   "execution_count": 4,
   "metadata": {},
   "outputs": [],
   "source": [
    "def init_weights(m):\n",
    "    if isinstance(m, nn.Linear):\n",
    "        nn.init.normal_(m.weight, mean=0., std=0.1)\n",
    "        nn.init.constant_(m.bias, 0.1)\n",
    "        \n",
    "\n",
    "class AC_Network(nn.Module):\n",
    "    def __init__(self, imput_dims, output_dims, hidden_layer_1, hidden_layer_2):\n",
    "        super().__init__()\n",
    "        \n",
    "        self.critic = nn.Sequential(nn.Linear(imput_dims, hidden_layer_1),\n",
    "                                    nn.ReLU(),\n",
    "                                    nn.Linear(hidden_layer_1, hidden_layer_2),\n",
    "                                    nn.ReLU(),\n",
    "                                    nn.Linear(hidden_layer_2, 1))\n",
    "        \n",
    "        self.actor = nn.Sequential(nn.Linear(imput_dims, hidden_layer_1),\n",
    "                                    nn.ReLU(),\n",
    "                                    nn.Linear(hidden_layer_1, hidden_layer_2),\n",
    "                                    nn.ReLU(),\n",
    "                                    nn.Linear(hidden_layer_2, output_dims))        \n",
    "        self.apply(init_weights)\n",
    "        \n",
    "    def forward(self, x):\n",
    "        state_value = self.critic(x)\n",
    "        action_vector = self.actor(x)\n",
    "        action_probs = softmax(action_vector.cpu().detach().numpy())\n",
    "        np.clip(action_probs,1e-10,1,out=action_probs)\n",
    "        action_distribution  = Categorical(torch.FloatTensor(action_probs).to(device))\n",
    "        return action_distribution, state_value"
   ]
  },
  {
   "cell_type": "markdown",
   "metadata": {},
   "source": [
    "# Computing Generalized Advantage Estimation (for smoother training)"
   ]
  },
  {
   "cell_type": "code",
   "execution_count": 5,
   "metadata": {},
   "outputs": [],
   "source": [
    "def gen_adv_est(next_value, rewards, masks, values, gamma=0.99, tau=0.95):\n",
    "    values = values + [next_value]\n",
    "    gae = 0\n",
    "    returns = []\n",
    "    for step in reversed(range(len(rewards))):\n",
    "        delta = rewards[step] + gamma * values[step + 1] * masks[step] - values[step]\n",
    "        gae = delta + gamma * tau * masks[step] * gae\n",
    "        returns.insert(0, gae + values[step])\n",
    "    return returns"
   ]
  },
  {
   "cell_type": "markdown",
   "metadata": {},
   "source": [
    "## Utility Funtions"
   ]
  },
  {
   "cell_type": "code",
   "execution_count": 6,
   "metadata": {},
   "outputs": [],
   "source": [
    "def plot(rewards, avg_reward):\n",
    "    clear_output(True)\n",
    "    plt.figure(figsize=(20,5))\n",
    "    plt.subplot(131)\n",
    "    plt.plot(rewards,label = 'Reward Per Test Session')\n",
    "    plt.plot(avg_reward,label = \"Average Reward over all Tests\")\n",
    "    plt.legend()\n",
    "    plt.show()"
   ]
  },
  {
   "cell_type": "code",
   "execution_count": 7,
   "metadata": {},
   "outputs": [],
   "source": [
    "def test_env(vis=False):\n",
    "    state = main_env.reset()\n",
    "    done = False\n",
    "    average_reward_current_policy = 0\n",
    "    while (not done):\n",
    "        state = torch.FloatTensor(state).unsqueeze(0).to(device)\n",
    "        action_distribution, _ = model(state.view(1,-1))\n",
    "        next_state, reward, done, _ = main_env.step(action_distribution.sample().cpu().numpy()[0])\n",
    "        state = next_state\n",
    "        if vis: \n",
    "            main_env.render()\n",
    "        average_reward_current_policy += reward\n",
    "    return average_reward_current_policy"
   ]
  },
  {
   "cell_type": "markdown",
   "metadata": {},
   "source": [
    "# Proximal Policy Optimization Algorithm"
   ]
  },
  {
   "cell_type": "code",
   "execution_count": 8,
   "metadata": {},
   "outputs": [],
   "source": [
    "def ppo_step(mini_batch_size, states, actions, log_probs, returns, advantage):\n",
    "    batch_size = states.size(0)\n",
    "    for _ in range(batch_size // mini_batch_size):\n",
    "        rand_ids = np.random.randint(0, batch_size, mini_batch_size)\n",
    "        yield states[rand_ids, :], actions[rand_ids, :], log_probs[rand_ids, :], returns[rand_ids, :], advantage[rand_ids, :]"
   ]
  },
  {
   "cell_type": "code",
   "execution_count": 9,
   "metadata": {},
   "outputs": [],
   "source": [
    "def ppo_parameter_update(ppo_epochs, mini_batch_size, states, actions, log_probs, returns, advantages, clip_param=0.2):\n",
    "    for _ in range(ppo_epochs):\n",
    "        for state, action, prev_log_probs, return_, advantage in ppo_step(mini_batch_size, states, actions, log_probs, returns, advantages):\n",
    "            action_distribution, state_value = model(state)\n",
    "            entropy = action_distribution.entropy().mean()\n",
    "            new_log_probs = action_distribution.log_prob(action)\n",
    "\n",
    "           \n",
    "            #Ratio of current policy over old policy in logarithmic space\n",
    "            log_ratio = (new_log_probs - prev_log_probs).exp()\n",
    "            \n",
    "            #surrogate losses (for actor)\n",
    "            surrogate_loss_1 = log_ratio * advantage\n",
    "            surrogate_loss_2 = torch.clamp(log_ratio, 1.0 - clip_param, 1.0 + clip_param) * advantage\n",
    "            \n",
    "            #following are the actor and critic network losses which will be combined in the next step.\n",
    "            actor_loss  = - torch.min(surrogate_loss_1, surrogate_loss_2).mean()\n",
    "            critic_mse_loss = (return_ - state_value).pow(2).mean()\n",
    "\n",
    "            #Combined loss function to update both actor and critic network\n",
    "            combined_loss = 0.5 * critic_mse_loss + actor_loss - 0.001 * entropy\n",
    "\n",
    "            optimizer.zero_grad()\n",
    "            combined_loss.backward()\n",
    "            optimizer.step()"
   ]
  },
  {
   "cell_type": "markdown",
   "metadata": {},
   "source": [
    "# Training Function."
   ]
  },
  {
   "cell_type": "markdown",
   "metadata": {},
   "source": [
    "## After every 500 steps of training, we test the policy on the actual environment and record rewards."
   ]
  },
  {
   "cell_type": "code",
   "execution_count": 10,
   "metadata": {},
   "outputs": [],
   "source": [
    "def start_learning(envs, max_steps, curr_step, test_reards, avg_reward, moving_average_over_tests):\n",
    "    state = envs.reset()\n",
    "    while curr_step < max_steps:\n",
    "        log_probs = []\n",
    "        values = []\n",
    "        states = []\n",
    "        actions = []\n",
    "        rewards = []\n",
    "        masks = []\n",
    "        entropy = 0\n",
    "        for step in range(steps):\n",
    "            state = torch.FloatTensor(state).to(device)\n",
    "            state = state.view(num_envs,-1)\n",
    "            action_distribution, value = model(state)\n",
    "            action = action_distribution.sample()\n",
    "            next_state, reward, done, _ = envs.step(action.cpu().numpy())\n",
    "\n",
    "            log_prob = action_distribution.log_prob(action)\n",
    "            entropy += action_distribution.entropy().mean()\n",
    "\n",
    "            log_probs.append(log_prob)\n",
    "            values.append(value)\n",
    "            rewards.append(torch.FloatTensor(reward).unsqueeze(1).to(device))\n",
    "            masks.append(torch.FloatTensor(1 - done).unsqueeze(1).to(device))\n",
    "\n",
    "            states.append(state)\n",
    "            actions.append(action)\n",
    "\n",
    "            state = next_state\n",
    "            curr_step += 1\n",
    "\n",
    "            if curr_step % 500 == 0:\n",
    "                test_reward = np.mean([test_env() for _ in range(8)])\n",
    "                test_rewards.append(test_reward)\n",
    "                moving_average_over_tests += ((1/len(test_rewards)) * (test_reward - moving_average_over_tests))\n",
    "                avg_reward.append(moving_average_over_tests)\n",
    "                plot(test_rewards, avg_reward)\n",
    "\n",
    "        next_state = torch.FloatTensor(next_state).to(device)\n",
    "        _, next_value = model(next_state.view(num_envs,-1))\n",
    "        returns = gen_adv_est(next_value, rewards, masks, values)\n",
    "\n",
    "        returns   = torch.cat(returns).detach()\n",
    "        log_probs = torch.cat(log_probs).detach()\n",
    "        values    = torch.cat(values).detach()\n",
    "        states    = torch.cat(states)\n",
    "        actions   = torch.cat(actions)\n",
    "        advantage = returns - values\n",
    "\n",
    "        ppo_parameter_update(ppo_epochs, mini_batch_size, states, actions.unsqueeze(1), log_probs.unsqueeze(1), returns, advantage)"
   ]
  },
  {
   "cell_type": "markdown",
   "metadata": {},
   "source": [
    "# Starting Training ... "
   ]
  },
  {
   "cell_type": "markdown",
   "metadata": {},
   "source": [
    "## Initializing Environment Vectors for Atari Space Invaders"
   ]
  },
  {
   "cell_type": "code",
   "execution_count": 11,
   "metadata": {},
   "outputs": [],
   "source": [
    "num_envs = 18"
   ]
  },
  {
   "cell_type": "code",
   "execution_count": 12,
   "metadata": {},
   "outputs": [],
   "source": [
    "env_name = \"SpaceInvaders-v0\"\n",
    "def make_env():\n",
    "    def _envs():\n",
    "        env = gym.make(env_name)\n",
    "        return env\n",
    "\n",
    "    return _envs\n",
    "\n",
    "envs = [make_env() for i in range(num_envs)]\n",
    "envs = SubprocVecEnv(envs)"
   ]
  },
  {
   "cell_type": "code",
   "execution_count": 13,
   "metadata": {},
   "outputs": [],
   "source": [
    "main_env = gym.make(env_name)"
   ]
  },
  {
   "cell_type": "markdown",
   "metadata": {},
   "source": [
    "# Model Parameters"
   ]
  },
  {
   "cell_type": "code",
   "execution_count": 14,
   "metadata": {},
   "outputs": [],
   "source": [
    "input_dims  = envs.observation_space.shape[0]*envs.observation_space.shape[1]*envs.observation_space.shape[2]\n",
    "output_dims = 6\n",
    "hidden_layer_1  = 1024\n",
    "hidden_layer_2  = 256\n",
    "ac_network_alpha = 1e-3\n",
    "steps = 16\n",
    "mini_batch_size = 6\n",
    "ppo_epochs = 6"
   ]
  },
  {
   "cell_type": "code",
   "execution_count": 15,
   "metadata": {},
   "outputs": [],
   "source": [
    "model = AC_Network(input_dims, output_dims, hidden_layer_1, hidden_layer_2).to(device)\n",
    "optimizer = optim.Adam(model.parameters(), lr=ac_network_alpha)"
   ]
  },
  {
   "cell_type": "code",
   "execution_count": 16,
   "metadata": {},
   "outputs": [],
   "source": [
    "max_steps = 8000\n",
    "curr_step  = 0\n",
    "test_rewards = []\n",
    "avg_reward = []\n",
    "moving_average_over_tests = 0"
   ]
  },
  {
   "cell_type": "code",
   "execution_count": 17,
   "metadata": {
    "scrolled": true
   },
   "outputs": [
    {
     "data": {
      "image/png": "[encoded data removed]",
      "text/plain": [
       "<Figure size 1440x360 with 1 Axes>"
      ]
     },
     "metadata": {
      "needs_background": "light"
     },
     "output_type": "display_data"
    }
   ],
   "source": [
    "start_learning(envs, max_steps, curr_step, test_rewards, avg_reward, moving_average_over_tests)"
   ]
  },
  {
   "cell_type": "markdown",
   "metadata": {},
   "source": [
    "## Initializing Environment Vectors for Atari BreakOut"
   ]
  },
  {
   "cell_type": "code",
   "execution_count": 18,
   "metadata": {},
   "outputs": [],
   "source": [
    "num_envs = 6"
   ]
  },
  {
   "cell_type": "code",
   "execution_count": 19,
   "metadata": {},
   "outputs": [],
   "source": [
    "env_name = \"Breakout-v0\"\n",
    "def make_env():\n",
    "    def _envs():\n",
    "        env = gym.make(env_name)\n",
    "        return env\n",
    "\n",
    "    return _envs\n",
    "\n",
    "envs = [make_env() for i in range(num_envs)]\n",
    "envs = SubprocVecEnv(envs)"
   ]
  },
  {
   "cell_type": "code",
   "execution_count": 20,
   "metadata": {},
   "outputs": [],
   "source": [
    "main_env = gym.make(env_name)"
   ]
  },
  {
   "cell_type": "markdown",
   "metadata": {},
   "source": [
    "## Model Parameters"
   ]
  },
  {
   "cell_type": "code",
   "execution_count": 21,
   "metadata": {},
   "outputs": [],
   "source": [
    "input_dims  = envs.observation_space.shape[0]*envs.observation_space.shape[1]*envs.observation_space.shape[2]\n",
    "output_dims = 4\n",
    "hidden_layer_1  = 1024\n",
    "hidden_layer_2  = 256\n",
    "ac_network_alpha = 1e-3\n",
    "steps = 20\n",
    "mini_batch_size = 6\n",
    "ppo_epochs = 6"
   ]
  },
  {
   "cell_type": "code",
   "execution_count": 22,
   "metadata": {},
   "outputs": [],
   "source": [
    "model= AC_Network(input_dims, output_dims, hidden_layer_1, hidden_layer_2).to(device)\n",
    "optimizer = optim.Adam(model.parameters(), lr=ac_network_alpha)"
   ]
  },
  {
   "cell_type": "code",
   "execution_count": 23,
   "metadata": {},
   "outputs": [],
   "source": [
    "max_steps = 8000\n",
    "curr_step  = 0\n",
    "test_rewards = []\n",
    "avg_reward = []\n",
    "moving_average_over_tests = 0"
   ]
  },
  {
   "cell_type": "code",
   "execution_count": null,
   "metadata": {},
   "outputs": [],
   "source": [
    "start_learning(envs, max_steps, curr_step, test_rewards, avg_reward, moving_average_over_tests)"
   ]
  },
  {
   "cell_type": "markdown",
   "metadata": {},
   "source": [
    "## We ran into a few issues while training for Breakout. We successfully generated a graph of rewards vs testing sessions but we were not satisfied with the results hence we thought of hyperparameter tuning, unfortunately we could not complete the training for 15000 steps as it was taking a long time to converge. We had to abort the training. Kindly consider the graph that is put in the report for Atari Breakout."
   ]
  }
 ],
 "metadata": {
  "kernelspec": {
   "display_name": "Python 3",
   "language": "python",
   "name": "python3"
  },
  "language_info": {
   "codemirror_mode": {
    "name": "ipython",
    "version": 3
   },
   "file_extension": ".py",
   "mimetype": "text/x-python",
   "name": "python",
   "nbconvert_exporter": "python",
   "pygments_lexer": "ipython3",
   "version": "3.7.3"
  }
 },
 "nbformat": 4,
 "nbformat_minor": 2
}
